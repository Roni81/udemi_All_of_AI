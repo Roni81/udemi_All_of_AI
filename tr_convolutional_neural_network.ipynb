{
  "cells": [
    {
      "cell_type": "markdown",
      "metadata": {
        "colab_type": "text",
        "id": "3DR-eO17geWu"
      },
      "source": [
        "# Convolutional Neural Network"
      ]
    },
    {
      "cell_type": "markdown",
      "metadata": {
        "colab_type": "text",
        "id": "EMefrVPCg-60"
      },
      "source": [
        "### Importing the libraries"
      ]
    },
    {
      "cell_type": "code",
      "execution_count": 4,
      "metadata": {},
      "outputs": [],
      "source": [
        "import tensorflow as tf\n",
        "from keras.preprocessing.image import ImageDataGenerator"
      ]
    },
    {
      "cell_type": "code",
      "execution_count": 5,
      "metadata": {},
      "outputs": [
        {
          "data": {
            "text/plain": [
              "'2.14.0'"
            ]
          },
          "execution_count": 5,
          "metadata": {},
          "output_type": "execute_result"
        }
      ],
      "source": [
        "tf.__version__"
      ]
    },
    {
      "cell_type": "markdown",
      "metadata": {
        "colab_type": "text",
        "id": "oxQxCBWyoGPE"
      },
      "source": [
        "## Part 1 - Data Preprocessing"
      ]
    },
    {
      "cell_type": "markdown",
      "metadata": {
        "colab_type": "text",
        "id": "MvE-heJNo3GG"
      },
      "source": [
        "### Preprocessing the Training set"
      ]
    },
    {
      "cell_type": "code",
      "execution_count": 6,
      "metadata": {},
      "outputs": [
        {
          "name": "stdout",
          "output_type": "stream",
          "text": [
            "Found 8000 images belonging to 2 classes.\n"
          ]
        }
      ],
      "source": [
        "train_datagen = ImageDataGenerator(\n",
        "    rescale = 1./255, #픽셀값을 255로 나누어서 적용 정규화와 같은 의미 각 픽셀의 값을 0과 1사이에 넣기 위함\n",
        "    shear_range = 0.2,\n",
        "    zoom_range = 0.2,\n",
        "    horizontal_flip = True\n",
        ")\n",
        "training_set = train_datagen.flow_from_directory(\n",
        "    'dataset/training_set',\n",
        "    target_size = (64,64), #최종 사이즈\n",
        "    batch_size = 32,  # 하나의 배치에 얼마나 많은 이미지를 넣을지\n",
        "    class_mode = 'binary'\n",
        ")"
      ]
    },
    {
      "cell_type": "markdown",
      "metadata": {
        "colab_type": "text",
        "id": "mrCMmGw9pHys"
      },
      "source": [
        "### Preprocessing the Test set"
      ]
    },
    {
      "cell_type": "code",
      "execution_count": 7,
      "metadata": {},
      "outputs": [
        {
          "name": "stdout",
          "output_type": "stream",
          "text": [
            "Found 2000 images belonging to 2 classes.\n"
          ]
        }
      ],
      "source": [
        "test_datagen = ImageDataGenerator(\n",
        "    rescale = 1./255 #픽셀값을 255로 나누어서 적용 정규화와 같은 의미 각 픽셀의 값을 0과 1사이에 넣기 위함\n",
        ")\n",
        "test_set = test_datagen.flow_from_directory(\n",
        "    'dataset/test_set',\n",
        "    target_size = (64,64),\n",
        "    batch_size = 32,\n",
        "    class_mode = 'binary'\n",
        ")"
      ]
    },
    {
      "cell_type": "markdown",
      "metadata": {
        "colab_type": "text",
        "id": "af8O4l90gk7B"
      },
      "source": [
        "## Part 2 - Building the CNN"
      ]
    },
    {
      "cell_type": "markdown",
      "metadata": {
        "colab_type": "text",
        "id": "ces1gXY2lmoX"
      },
      "source": [
        "### Initialising the CNN"
      ]
    },
    {
      "cell_type": "code",
      "execution_count": 8,
      "metadata": {},
      "outputs": [],
      "source": [
        "cnn = tf.keras.models.Sequential()"
      ]
    },
    {
      "cell_type": "markdown",
      "metadata": {
        "colab_type": "text",
        "id": "u5YJj_XMl5LF"
      },
      "source": [
        "### Step 1 - Convolution"
      ]
    },
    {
      "cell_type": "code",
      "execution_count": 9,
      "metadata": {},
      "outputs": [],
      "source": [
        "cnn.add(tf.keras.layers.Conv2D(\n",
        "            filters = 32,\n",
        "            kernel_size = 3,\n",
        "            activation='relu',\n",
        "            input_shape = [64,64,3]))"
      ]
    },
    {
      "cell_type": "markdown",
      "metadata": {
        "colab_type": "text",
        "id": "tf87FpvxmNOJ"
      },
      "source": [
        "### Step 2 - Pooling"
      ]
    },
    {
      "cell_type": "code",
      "execution_count": 10,
      "metadata": {},
      "outputs": [],
      "source": [
        "cnn.add(tf.keras.layers.MaxPool2D(\n",
        "            pool_size=2,\n",
        "            strides=2\n",
        "            ))"
      ]
    },
    {
      "cell_type": "markdown",
      "metadata": {
        "colab_type": "text",
        "id": "xaTOgD8rm4mU"
      },
      "source": [
        "### Adding a second convolutional layer"
      ]
    },
    {
      "cell_type": "code",
      "execution_count": 11,
      "metadata": {},
      "outputs": [],
      "source": [
        "cnn.add(tf.keras.layers.Conv2D(\n",
        "            filters = 32,\n",
        "            kernel_size = 3,\n",
        "            activation='relu'\n",
        "            ))\n",
        "cnn.add(tf.keras.layers.MaxPool2D(\n",
        "            pool_size=2,\n",
        "            strides=2\n",
        "            ))"
      ]
    },
    {
      "cell_type": "markdown",
      "metadata": {
        "colab_type": "text",
        "id": "tmiEuvTunKfk"
      },
      "source": [
        "### Step 3 - Flattening"
      ]
    },
    {
      "cell_type": "code",
      "execution_count": 12,
      "metadata": {},
      "outputs": [],
      "source": [
        "cnn.add(tf.keras.layers.Flatten())"
      ]
    },
    {
      "cell_type": "markdown",
      "metadata": {
        "colab_type": "text",
        "id": "dAoSECOm203v"
      },
      "source": [
        "### Step 4 - Full Connection"
      ]
    },
    {
      "cell_type": "code",
      "execution_count": 13,
      "metadata": {},
      "outputs": [],
      "source": [
        "cnn.add(tf.keras.layers.Dense(units=128, activation='relu'))"
      ]
    },
    {
      "cell_type": "markdown",
      "metadata": {
        "colab_type": "text",
        "id": "yTldFvbX28Na"
      },
      "source": [
        "### Step 5 - Output Layer"
      ]
    },
    {
      "cell_type": "code",
      "execution_count": 14,
      "metadata": {},
      "outputs": [],
      "source": [
        "cnn.add(tf.keras.layers.Dense(units=1, activation='sigmoid'))\n",
        " #다중계층 분류시에는 activation = 'softmax'를 사용함\n"
      ]
    },
    {
      "cell_type": "markdown",
      "metadata": {
        "colab_type": "text",
        "id": "D6XkI90snSDl"
      },
      "source": [
        "## Part 3 - Training the CNN"
      ]
    },
    {
      "cell_type": "markdown",
      "metadata": {
        "colab_type": "text",
        "id": "vfrFQACEnc6i"
      },
      "source": [
        "### Compiling the CNN"
      ]
    },
    {
      "cell_type": "code",
      "execution_count": 15,
      "metadata": {},
      "outputs": [],
      "source": [
        "cnn.compile(optimizer= 'adam', loss = 'binary_crossentropy', metrics = ['accuracy'])"
      ]
    },
    {
      "cell_type": "markdown",
      "metadata": {
        "colab_type": "text",
        "id": "ehS-v3MIpX2h"
      },
      "source": [
        "### Training the CNN on the Training set and evaluating it on the Test set"
      ]
    },
    {
      "cell_type": "code",
      "execution_count": 16,
      "metadata": {},
      "outputs": [
        {
          "name": "stdout",
          "output_type": "stream",
          "text": [
            "Epoch 1/25\n",
            "250/250 [==============================] - 224s 892ms/step - loss: 0.6921 - accuracy: 0.5316 - val_loss: 0.6761 - val_accuracy: 0.5790\n",
            "Epoch 2/25\n",
            "250/250 [==============================] - 161s 644ms/step - loss: 0.6487 - accuracy: 0.6261 - val_loss: 0.5950 - val_accuracy: 0.6870\n",
            "Epoch 3/25\n",
            "250/250 [==============================] - 153s 612ms/step - loss: 0.5767 - accuracy: 0.6980 - val_loss: 0.5397 - val_accuracy: 0.7310\n",
            "Epoch 4/25\n",
            "250/250 [==============================] - 171s 685ms/step - loss: 0.5446 - accuracy: 0.7195 - val_loss: 0.5194 - val_accuracy: 0.7485\n",
            "Epoch 5/25\n",
            "250/250 [==============================] - 184s 734ms/step - loss: 0.5172 - accuracy: 0.7424 - val_loss: 0.4999 - val_accuracy: 0.7525\n",
            "Epoch 6/25\n",
            "250/250 [==============================] - 153s 612ms/step - loss: 0.5000 - accuracy: 0.7579 - val_loss: 0.4887 - val_accuracy: 0.7615\n",
            "Epoch 7/25\n",
            "250/250 [==============================] - 83s 330ms/step - loss: 0.4738 - accuracy: 0.7713 - val_loss: 0.4813 - val_accuracy: 0.7665\n",
            "Epoch 8/25\n",
            "250/250 [==============================] - 69s 275ms/step - loss: 0.4559 - accuracy: 0.7731 - val_loss: 0.4660 - val_accuracy: 0.7795\n",
            "Epoch 9/25\n",
            "250/250 [==============================] - 177s 708ms/step - loss: 0.4451 - accuracy: 0.7855 - val_loss: 0.4720 - val_accuracy: 0.7745\n",
            "Epoch 10/25\n",
            "250/250 [==============================] - 99s 396ms/step - loss: 0.4246 - accuracy: 0.8041 - val_loss: 0.4728 - val_accuracy: 0.7955\n",
            "Epoch 11/25\n",
            "250/250 [==============================] - 155s 623ms/step - loss: 0.4044 - accuracy: 0.8123 - val_loss: 0.4855 - val_accuracy: 0.7820\n",
            "Epoch 12/25\n",
            "250/250 [==============================] - 128s 511ms/step - loss: 0.4000 - accuracy: 0.8185 - val_loss: 0.4710 - val_accuracy: 0.7800\n",
            "Epoch 13/25\n",
            "250/250 [==============================] - 130s 519ms/step - loss: 0.3852 - accuracy: 0.8263 - val_loss: 0.4898 - val_accuracy: 0.7750\n",
            "Epoch 14/25\n",
            "250/250 [==============================] - 90s 358ms/step - loss: 0.3752 - accuracy: 0.8304 - val_loss: 0.4346 - val_accuracy: 0.8035\n",
            "Epoch 15/25\n",
            "250/250 [==============================] - 73s 291ms/step - loss: 0.3507 - accuracy: 0.8429 - val_loss: 0.4461 - val_accuracy: 0.8060\n",
            "Epoch 16/25\n",
            "250/250 [==============================] - 106s 423ms/step - loss: 0.3421 - accuracy: 0.8486 - val_loss: 0.4866 - val_accuracy: 0.7790\n",
            "Epoch 17/25\n",
            "250/250 [==============================] - 130s 518ms/step - loss: 0.3295 - accuracy: 0.8556 - val_loss: 0.4693 - val_accuracy: 0.7980\n",
            "Epoch 18/25\n",
            "250/250 [==============================] - 73s 291ms/step - loss: 0.3299 - accuracy: 0.8525 - val_loss: 0.4672 - val_accuracy: 0.7955\n",
            "Epoch 19/25\n",
            "250/250 [==============================] - 73s 293ms/step - loss: 0.3018 - accuracy: 0.8685 - val_loss: 0.4485 - val_accuracy: 0.8150\n",
            "Epoch 20/25\n",
            "250/250 [==============================] - 122s 489ms/step - loss: 0.2878 - accuracy: 0.8741 - val_loss: 0.4548 - val_accuracy: 0.8130\n",
            "Epoch 21/25\n",
            "250/250 [==============================] - 75s 301ms/step - loss: 0.2769 - accuracy: 0.8801 - val_loss: 0.4983 - val_accuracy: 0.8070\n",
            "Epoch 22/25\n",
            "250/250 [==============================] - 60s 241ms/step - loss: 0.2636 - accuracy: 0.8884 - val_loss: 0.4898 - val_accuracy: 0.7940\n",
            "Epoch 23/25\n",
            "250/250 [==============================] - 56s 226ms/step - loss: 0.2564 - accuracy: 0.8921 - val_loss: 0.5111 - val_accuracy: 0.8015\n",
            "Epoch 24/25\n",
            "250/250 [==============================] - 56s 225ms/step - loss: 0.2348 - accuracy: 0.9015 - val_loss: 0.5256 - val_accuracy: 0.8125\n",
            "Epoch 25/25\n",
            "250/250 [==============================] - 55s 221ms/step - loss: 0.2366 - accuracy: 0.9022 - val_loss: 0.5174 - val_accuracy: 0.8135\n"
          ]
        },
        {
          "data": {
            "text/plain": [
              "<keras.src.callbacks.History at 0x1a7f77bcf50>"
            ]
          },
          "execution_count": 16,
          "metadata": {},
          "output_type": "execute_result"
        }
      ],
      "source": [
        "cnn.fit(x = training_set, validation_data = test_set, epochs = 25)"
      ]
    },
    {
      "cell_type": "markdown",
      "metadata": {
        "colab_type": "text",
        "id": "U3PZasO0006Z"
      },
      "source": [
        "## Part 4 - Making a single prediction"
      ]
    },
    {
      "cell_type": "code",
      "execution_count": 18,
      "metadata": {},
      "outputs": [
        {
          "name": "stdout",
          "output_type": "stream",
          "text": [
            "1/1 [==============================] - 0s 48ms/step\n"
          ]
        }
      ],
      "source": [
        "import numpy as np\n",
        "from keras.preprocessing import image\n",
        "test_image = image.load_img('dataset/single_prediction/cat_or_dog_2.jpg', target_size=(64,64))\n",
        "test_image = image.img_to_array(test_image)\n",
        "test_image = np.expand_dims(test_image, axis = 0)\n",
        "result = cnn.predict(test_image/255.0)\n",
        "training_set.class_indices\n",
        "if result[0][0] > 0.5:\n",
        "    prediction = 'dog'\n",
        "else:\n",
        "    prediction = 'cat'\n"
      ]
    },
    {
      "cell_type": "code",
      "execution_count": 19,
      "metadata": {},
      "outputs": [
        {
          "name": "stdout",
          "output_type": "stream",
          "text": [
            "cat\n"
          ]
        }
      ],
      "source": [
        "print(prediction)"
      ]
    },
    {
      "cell_type": "code",
      "execution_count": null,
      "metadata": {},
      "outputs": [],
      "source": []
    }
  ],
  "metadata": {
    "colab": {
      "collapsed_sections": [],
      "name": "convolutional_neural_network.ipynb",
      "provenance": [],
      "toc_visible": true
    },
    "kernelspec": {
      "display_name": "Python 3",
      "name": "python3"
    },
    "language_info": {
      "codemirror_mode": {
        "name": "ipython",
        "version": 3
      },
      "file_extension": ".py",
      "mimetype": "text/x-python",
      "name": "python",
      "nbconvert_exporter": "python",
      "pygments_lexer": "ipython3",
      "version": "3.11.5"
    }
  },
  "nbformat": 4,
  "nbformat_minor": 0
}
![image for predict](./cat_or_dog_2.jpg)
